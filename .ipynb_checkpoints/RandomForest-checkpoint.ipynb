{
 "cells": [
  {
   "cell_type": "code",
   "execution_count": 1,
   "metadata": {},
   "outputs": [],
   "source": [
    "import numpy as np\n",
    "import pandas as pd\n",
    "\n",
    "#importing Sampling Helper\n",
    "from sklearn.model_selection import train_test_split\n",
    "\n",
    "#importing preprocessing modules\n",
    "from sklearn import preprocessing\n",
    "\n",
    "#import Random Forest model\n",
    "from sklearn.ensemble import RandomForestRegressor\n",
    "\n",
    "#Import Cross Validation Pipeline\n",
    "from sklearn.pipeline import make_pipeline\n",
    "from sklearn.model_selection import GridSearchCV\n",
    "\n",
    "#import metrics to evaluate our model\n",
    "from sklearn.metrics import mean_squared_error, r2_score\n",
    "\n",
    "#import module to save our model\n",
    "import joblib\n",
    "\n"
   ]
  },
  {
   "cell_type": "code",
   "execution_count": null,
   "metadata": {},
   "outputs": [],
   "source": [
    "#We’ll be training and tuning a random forest for wine quality (as judged by wine snobs experts) \n",
    "# based on traits like acidity, residual sugar, and alcohol concentration."
   ]
  },
  {
   "cell_type": "code",
   "execution_count": 2,
   "metadata": {},
   "outputs": [],
   "source": [
    "#importing Dataset\n",
    "dataset_url = 'http://mlr.cs.umass.edu/ml/machine-learning-databases/wine-quality/winequality-red.csv'\n",
    "data = pd.read_csv(dataset_url)"
   ]
  },
  {
   "cell_type": "code",
   "execution_count": 8,
   "metadata": {},
   "outputs": [
    {
     "name": "stdout",
     "output_type": "stream",
     "text": [
      "   fixed acidity  volatile acidity  citric acid  residual sugar  chlorides  \\\n",
      "0            7.4              0.70         0.00             1.9      0.076   \n",
      "1            7.8              0.88         0.00             2.6      0.098   \n",
      "2            7.8              0.76         0.04             2.3      0.092   \n",
      "3           11.2              0.28         0.56             1.9      0.075   \n",
      "4            7.4              0.70         0.00             1.9      0.076   \n",
      "\n",
      "   free sulfur dioxide  total sulfur dioxide  density    pH  sulphates  \\\n",
      "0                 11.0                  34.0   0.9978  3.51       0.56   \n",
      "1                 25.0                  67.0   0.9968  3.20       0.68   \n",
      "2                 15.0                  54.0   0.9970  3.26       0.65   \n",
      "3                 17.0                  60.0   0.9980  3.16       0.58   \n",
      "4                 11.0                  34.0   0.9978  3.51       0.56   \n",
      "\n",
      "   alcohol  quality  \n",
      "0      9.4        5  \n",
      "1      9.8        5  \n",
      "2      9.8        5  \n",
      "3      9.8        6  \n",
      "4      9.4        5  \n"
     ]
    }
   ],
   "source": []
  },
  {
   "cell_type": "code",
   "execution_count": 7,
   "metadata": {},
   "outputs": [],
   "source": [
    "data = pd.read_csv(dataset_url, sep=';')\n",
    "print (data.head())"
   ]
  },
  {
   "cell_type": "code",
   "execution_count": 9,
   "metadata": {},
   "outputs": [
    {
     "name": "stdout",
     "output_type": "stream",
     "text": [
      "(1599, 12)\n"
     ]
    }
   ],
   "source": [
    "print (data.shape)"
   ]
  },
  {
   "cell_type": "code",
   "execution_count": 10,
   "metadata": {},
   "outputs": [
    {
     "name": "stdout",
     "output_type": "stream",
     "text": [
      "       fixed acidity  volatile acidity  citric acid  residual sugar  \\\n",
      "count    1599.000000       1599.000000  1599.000000     1599.000000   \n",
      "mean        8.319637          0.527821     0.270976        2.538806   \n",
      "std         1.741096          0.179060     0.194801        1.409928   \n",
      "min         4.600000          0.120000     0.000000        0.900000   \n",
      "25%         7.100000          0.390000     0.090000        1.900000   \n",
      "50%         7.900000          0.520000     0.260000        2.200000   \n",
      "75%         9.200000          0.640000     0.420000        2.600000   \n",
      "max        15.900000          1.580000     1.000000       15.500000   \n",
      "\n",
      "         chlorides  free sulfur dioxide  total sulfur dioxide      density  \\\n",
      "count  1599.000000          1599.000000           1599.000000  1599.000000   \n",
      "mean      0.087467            15.874922             46.467792     0.996747   \n",
      "std       0.047065            10.460157             32.895324     0.001887   \n",
      "min       0.012000             1.000000              6.000000     0.990070   \n",
      "25%       0.070000             7.000000             22.000000     0.995600   \n",
      "50%       0.079000            14.000000             38.000000     0.996750   \n",
      "75%       0.090000            21.000000             62.000000     0.997835   \n",
      "max       0.611000            72.000000            289.000000     1.003690   \n",
      "\n",
      "                pH    sulphates      alcohol      quality  \n",
      "count  1599.000000  1599.000000  1599.000000  1599.000000  \n",
      "mean      3.311113     0.658149    10.422983     5.636023  \n",
      "std       0.154386     0.169507     1.065668     0.807569  \n",
      "min       2.740000     0.330000     8.400000     3.000000  \n",
      "25%       3.210000     0.550000     9.500000     5.000000  \n",
      "50%       3.310000     0.620000    10.200000     6.000000  \n",
      "75%       3.400000     0.730000    11.100000     6.000000  \n",
      "max       4.010000     2.000000    14.900000     8.000000  \n"
     ]
    }
   ],
   "source": [
    "print (data.describe())"
   ]
  },
  {
   "cell_type": "code",
   "execution_count": 11,
   "metadata": {},
   "outputs": [],
   "source": [
    "#separate target feature from other features\n",
    "y = data.quality\n",
    "X = data.drop('quality', axis=1)"
   ]
  },
  {
   "cell_type": "code",
   "execution_count": 12,
   "metadata": {},
   "outputs": [],
   "source": [
    "#Split data into training and test sets.\n",
    "X_train, X_test, y_train, y_test = train_test_split(X, y, \n",
    "                                                    test_size=0.2, \n",
    "                                                    random_state=123, \n",
    "                                                    stratify=y)"
   ]
  },
  {
   "cell_type": "code",
   "execution_count": 13,
   "metadata": {},
   "outputs": [],
   "source": [
    "#Fitting the Transformer API\n",
    "scaler = preprocessing.StandardScaler().fit(X_train)"
   ]
  },
  {
   "cell_type": "code",
   "execution_count": 17,
   "metadata": {},
   "outputs": [
    {
     "name": "stdout",
     "output_type": "stream",
     "text": [
      "[ 1.16664562e-16 -3.05550043e-17 -8.47206937e-17 -2.22218213e-17\n",
      "  2.22218213e-17 -6.38877362e-17 -4.16659149e-18 -2.54439854e-15\n",
      " -8.70817622e-16 -4.08325966e-16 -1.17220107e-15]\n",
      "[1. 1. 1. 1. 1. 1. 1. 1. 1. 1. 1.]\n",
      "[ 0.02776704  0.02592492 -0.03078587 -0.03137977 -0.00471876 -0.04413827\n",
      " -0.02414174 -0.00293273 -0.00467444 -0.10894663  0.01043391]\n",
      "[1.02160495 1.00135689 0.97456598 0.91099054 0.86716698 0.94193125\n",
      " 1.03673213 1.03145119 0.95734849 0.83829505 1.0286218 ]\n"
     ]
    }
   ],
   "source": [
    "#applying transformerto training data\n",
    "X_train_scaled = scaler.transform(X_train)\n",
    " \n",
    "print (X_train_scaled.mean(axis=0))\n",
    "print (X_train_scaled.std(axis=0))\n",
    "\n",
    "#Applying transformer to test data\n",
    "\n",
    "X_test_scaled = scaler.transform(X_test)\n",
    " \n",
    "print (X_test_scaled.mean(axis=0))\n",
    "print (X_test_scaled.std(axis=0))"
   ]
  },
  {
   "cell_type": "code",
   "execution_count": 18,
   "metadata": {},
   "outputs": [],
   "source": [
    "#pipeline with preprocessing and model\n",
    "pipeline = make_pipeline(preprocessing.StandardScaler(), \n",
    "                         RandomForestRegressor(n_estimators=100))"
   ]
  },
  {
   "cell_type": "code",
   "execution_count": 20,
   "metadata": {},
   "outputs": [
    {
     "name": "stdout",
     "output_type": "stream",
     "text": [
      "{'memory': None, 'steps': [('standardscaler', StandardScaler()), ('randomforestregressor', RandomForestRegressor())], 'verbose': False, 'standardscaler': StandardScaler(), 'randomforestregressor': RandomForestRegressor(), 'standardscaler__copy': True, 'standardscaler__with_mean': True, 'standardscaler__with_std': True, 'randomforestregressor__bootstrap': True, 'randomforestregressor__ccp_alpha': 0.0, 'randomforestregressor__criterion': 'mse', 'randomforestregressor__max_depth': None, 'randomforestregressor__max_features': 'auto', 'randomforestregressor__max_leaf_nodes': None, 'randomforestregressor__max_samples': None, 'randomforestregressor__min_impurity_decrease': 0.0, 'randomforestregressor__min_impurity_split': None, 'randomforestregressor__min_samples_leaf': 1, 'randomforestregressor__min_samples_split': 2, 'randomforestregressor__min_weight_fraction_leaf': 0.0, 'randomforestregressor__n_estimators': 100, 'randomforestregressor__n_jobs': None, 'randomforestregressor__oob_score': False, 'randomforestregressor__random_state': None, 'randomforestregressor__verbose': 0, 'randomforestregressor__warm_start': False}\n"
     ]
    }
   ],
   "source": [
    "#Tuning HYperparameters\n",
    "\n",
    "print (pipeline.get_params())\n",
    "\n",
    "hyperparameters = { 'randomforestregressor__max_features' : ['auto', 'sqrt', 'log2'],\n",
    "                  'randomforestregressor__max_depth': [None, 5, 3, 1]}"
   ]
  },
  {
   "cell_type": "code",
   "execution_count": 21,
   "metadata": {},
   "outputs": [
    {
     "data": {
      "text/plain": [
       "GridSearchCV(cv=10,\n",
       "             estimator=Pipeline(steps=[('standardscaler', StandardScaler()),\n",
       "                                       ('randomforestregressor',\n",
       "                                        RandomForestRegressor())]),\n",
       "             param_grid={'randomforestregressor__max_depth': [None, 5, 3, 1],\n",
       "                         'randomforestregressor__max_features': ['auto', 'sqrt',\n",
       "                                                                 'log2']})"
      ]
     },
     "execution_count": 21,
     "metadata": {},
     "output_type": "execute_result"
    }
   ],
   "source": [
    "#Sklearn cross-validation with pipeline\n",
    "\n",
    "clf = GridSearchCV(pipeline, hyperparameters, cv=10)\n",
    " \n",
    "# Fit and tune model\n",
    "clf.fit(X_train, y_train)"
   ]
  },
  {
   "cell_type": "code",
   "execution_count": 22,
   "metadata": {},
   "outputs": [
    {
     "name": "stdout",
     "output_type": "stream",
     "text": [
      "{'randomforestregressor__max_depth': None, 'randomforestregressor__max_features': 'auto'}\n"
     ]
    }
   ],
   "source": [
    "print (clf.best_params_)"
   ]
  },
  {
   "cell_type": "code",
   "execution_count": 23,
   "metadata": {},
   "outputs": [],
   "source": [
    "#Predict the new set of data\n",
    "y_pred = clf.predict(X_test)"
   ]
  },
  {
   "cell_type": "code",
   "execution_count": 25,
   "metadata": {},
   "outputs": [
    {
     "name": "stdout",
     "output_type": "stream",
     "text": [
      "0.4592495913796236\n",
      "0.348931875\n"
     ]
    }
   ],
   "source": [
    "#metrics to evaluate the model\n",
    "print (r2_score(y_test, y_pred))\n",
    " \n",
    "print (mean_squared_error(y_test, y_pred))\n"
   ]
  },
  {
   "cell_type": "code",
   "execution_count": 26,
   "metadata": {},
   "outputs": [
    {
     "data": {
      "text/plain": [
       "['rf_regressor.pkl']"
      ]
     },
     "execution_count": 26,
     "metadata": {},
     "output_type": "execute_result"
    }
   ],
   "source": [
    "#save model for future use\n",
    "joblib.dump(clf, 'rf_regressor.pkl')"
   ]
  },
  {
   "cell_type": "code",
   "execution_count": 27,
   "metadata": {},
   "outputs": [
    {
     "data": {
      "text/plain": [
       "array([6.59, 5.73, 4.97, 5.57, 6.53, 5.81, 4.8 , 4.58, 5.  , 5.99, 5.29,\n",
       "       5.72, 5.82, 5.03, 5.89, 5.65, 6.74, 5.69, 5.7 , 6.97, 5.44, 5.56,\n",
       "       4.99, 6.08, 5.9 , 5.13, 5.51, 5.17, 5.86, 5.91, 5.86, 6.74, 5.99,\n",
       "       5.03, 4.87, 5.88, 5.03, 5.87, 5.14, 5.9 , 4.93, 5.98, 6.79, 5.05,\n",
       "       6.13, 5.36, 5.48, 5.5 , 5.12, 6.5 , 5.89, 5.22, 5.85, 5.15, 5.66,\n",
       "       5.83, 5.24, 5.4 , 4.96, 5.27, 5.31, 5.02, 5.  , 5.86, 6.02, 5.27,\n",
       "       6.33, 5.04, 5.1 , 6.65, 5.74, 5.49, 5.09, 5.02, 5.31, 5.98, 5.31,\n",
       "       5.07, 5.33, 5.17, 6.58, 5.57, 6.28, 6.47, 5.16, 5.92, 6.44, 6.02,\n",
       "       5.33, 5.87, 5.91, 5.33, 6.47, 5.64, 5.78, 5.77, 6.74, 6.84, 5.5 ,\n",
       "       6.89, 5.04, 5.32, 5.12, 6.7 , 5.02, 4.74, 5.72, 4.9 , 5.62, 5.96,\n",
       "       5.66, 5.61, 6.16, 5.45, 5.01, 5.2 , 5.93, 5.06, 4.82, 6.07, 5.83,\n",
       "       5.11, 5.82, 6.09, 5.17, 5.34, 5.27, 5.84, 5.43, 5.45, 5.87, 6.35,\n",
       "       5.18, 5.31, 5.04, 6.47, 5.02, 5.19, 6.86, 5.38, 5.17, 5.08, 5.97,\n",
       "       6.11, 5.34, 5.4 , 5.12, 6.74, 5.45, 5.03, 5.56, 5.19, 4.71, 4.98,\n",
       "       5.28, 5.99, 5.47, 5.74, 5.79, 5.26, 5.57, 5.31, 5.32, 5.89, 5.04,\n",
       "       6.09, 5.07, 5.17, 5.39, 5.09, 5.65, 5.02, 5.62, 5.08, 5.61, 5.41,\n",
       "       4.98, 5.35, 5.57, 5.06, 6.13, 5.65, 5.01, 5.02, 5.2 , 6.27, 5.22,\n",
       "       5.68, 5.33, 4.85, 5.49, 6.54, 5.83, 5.94, 5.34, 5.23, 5.4 , 5.13,\n",
       "       6.16, 4.58, 6.26, 5.06, 5.15, 5.24, 6.91, 6.04, 5.21, 5.19, 5.46,\n",
       "       5.92, 5.91, 6.02, 6.02, 6.38, 5.79, 5.93, 5.2 , 5.21, 5.67, 5.23,\n",
       "       5.24, 5.87, 6.04, 5.4 , 5.86, 5.87, 5.48, 6.31, 5.39, 5.68, 5.37,\n",
       "       5.5 , 6.19, 5.8 , 4.94, 4.22, 6.83, 6.67, 6.28, 5.3 , 5.25, 5.53,\n",
       "       5.41, 6.27, 5.96, 5.2 , 5.15, 5.47, 5.26, 6.56, 5.16, 5.07, 5.19,\n",
       "       5.11, 5.91, 6.55, 5.73, 5.45, 5.55, 6.39, 5.41, 6.05, 5.22, 5.01,\n",
       "       5.8 , 6.09, 5.89, 5.64, 5.37, 5.07, 5.73, 5.56, 6.31, 6.16, 5.55,\n",
       "       5.19, 5.97, 6.62, 5.95, 5.39, 5.73, 5.27, 5.27, 6.14, 6.96, 5.29,\n",
       "       6.88, 6.1 , 5.39, 5.31, 5.98, 5.09, 5.14, 6.28, 5.72, 5.87, 6.16,\n",
       "       5.9 , 5.4 , 5.6 , 5.42, 6.16, 5.51, 6.87, 6.94, 6.05, 6.33, 5.08,\n",
       "       5.31, 5.88, 5.31, 5.32, 5.84, 6.46, 6.74, 5.23, 5.47, 5.66, 6.08,\n",
       "       5.53])"
      ]
     },
     "execution_count": 27,
     "metadata": {},
     "output_type": "execute_result"
    }
   ],
   "source": [
    "#loading it again -- Just for reuse\n",
    "clf2 = joblib.load('rf_regressor.pkl')\n",
    " \n",
    "# Predict data set using loaded model\n",
    "clf2.predict(X_test)"
   ]
  },
  {
   "cell_type": "code",
   "execution_count": null,
   "metadata": {},
   "outputs": [],
   "source": []
  }
 ],
 "metadata": {
  "kernelspec": {
   "display_name": "Python 3.7.0 64-bit",
   "language": "python",
   "name": "python37064bit5fcc6596ca964b089584be066b160865"
  },
  "language_info": {
   "codemirror_mode": {
    "name": "ipython",
    "version": 3
   },
   "file_extension": ".py",
   "mimetype": "text/x-python",
   "name": "python",
   "nbconvert_exporter": "python",
   "pygments_lexer": "ipython3",
   "version": "3.7.0"
  }
 },
 "nbformat": 4,
 "nbformat_minor": 2
}
